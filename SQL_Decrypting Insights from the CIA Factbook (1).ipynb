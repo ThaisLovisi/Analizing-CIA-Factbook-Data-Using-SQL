{
 "cells": [
  {
   "cell_type": "markdown",
   "id": "02205cdd",
   "metadata": {},
   "source": [
    " <h1 align=\"center\">Operation Atlas: Decrypting Insights from the CIA Factbook</h1>\n",
    "\n",
    "<center>\n",
    "    <iframe src=\"https://giphy.com/embed/Hz1hFjTarLPJGyOUNI\" width=\"480\" height=\"270\" frameborder=\"0\"></iframe>\n",
    "</center>\n",
    "\n",
    "<h3 align=\"center\"> by Thais Lovisi</h3>"
   ]
  },
  {
   "cell_type": "markdown",
   "id": "a95a2b2a",
   "metadata": {},
   "source": [
    "The current project aims to work with data from the CIA World Factbook, to extract insights into demographic and geographic information. \n",
    "\n",
    "The Factbook is a compendium of statistics about all the recognized countries on Earth. Yep! You are right, it doesn't include data from Minas Gerais, which was claimed by the Greys in the 90s when they land at Varginha.\n",
    "\n",
    "Jokes aside, the Factbook is a fantastic data collection with infinite possibilities to analyze. Some of the gathered data is:\n",
    "\n",
    "- population — the global population.\n",
    "- population_growth — the annual population growth rate, as a percentage.\n",
    "- area — the total land and water area.\n",
    "\n",
    "All the data used at this project was extracted at: https://dsserver-prod-resources-1.s3.amazonaws.com/257/factbook.db"
   ]
  },
  {
   "cell_type": "markdown",
   "id": "5fca9da0",
   "metadata": {},
   "source": [
    "## Load the SQL extension and File"
   ]
  },
  {
   "cell_type": "code",
   "execution_count": 1,
   "id": "e11f7f72",
   "metadata": {},
   "outputs": [
    {
     "name": "stdout",
     "output_type": "stream",
     "text": [
      "Collecting package metadata (current_repodata.json): ...working... done\n",
      "Solving environment: ...working... done\n",
      "\n",
      "# All requested packages already installed.\n",
      "\n"
     ]
    },
    {
     "name": "stderr",
     "output_type": "stream",
     "text": [
      "\n",
      "\n",
      "==> WARNING: A newer version of conda exists. <==\n",
      "  current version: 23.3.1\n",
      "  latest version: 23.5.0\n",
      "\n",
      "Please update conda by running\n",
      "\n",
      "    $ conda update -n base -c defaults conda\n",
      "\n",
      "Or to minimize the number of packages updated during conda update use\n",
      "\n",
      "     conda install conda=23.5.0\n",
      "\n",
      "\n"
     ]
    }
   ],
   "source": [
    "!conda install -yc conda-forge ipython-sql"
   ]
  },
  {
   "cell_type": "code",
   "execution_count": 2,
   "id": "a1cd57e7",
   "metadata": {},
   "outputs": [],
   "source": [
    "%%capture\n",
    "%load_ext sql\n",
    "%sql sqlite:///factbook(1).db"
   ]
  },
  {
   "cell_type": "markdown",
   "id": "f1727655",
   "metadata": {},
   "source": [
    "## Terrain reconnaissance : Knowing my table"
   ]
  },
  {
   "cell_type": "markdown",
   "id": "f9791dbb",
   "metadata": {},
   "source": [
    "As good agents, we know that before taking on any mission, thorough preparation is the sucess key. And in the world of data, the terrain reconnaissance begins with knowing our data.\n",
    "\n",
    "Let's start by a quick overview."
   ]
  },
  {
   "cell_type": "code",
   "execution_count": 3,
   "id": "c2fc285c",
   "metadata": {},
   "outputs": [
    {
     "name": "stdout",
     "output_type": "stream",
     "text": [
      " * sqlite:///factbook(1).db\n",
      "Done.\n"
     ]
    },
    {
     "data": {
      "text/html": [
       "<table>\n",
       "    <thead>\n",
       "        <tr>\n",
       "            <th>type</th>\n",
       "            <th>name</th>\n",
       "            <th>tbl_name</th>\n",
       "            <th>rootpage</th>\n",
       "            <th>sql</th>\n",
       "        </tr>\n",
       "    </thead>\n",
       "    <tbody>\n",
       "        <tr>\n",
       "            <td>table</td>\n",
       "            <td>sqlite_sequence</td>\n",
       "            <td>sqlite_sequence</td>\n",
       "            <td>3</td>\n",
       "            <td>CREATE TABLE sqlite_sequence(name,seq)</td>\n",
       "        </tr>\n",
       "        <tr>\n",
       "            <td>table</td>\n",
       "            <td>facts</td>\n",
       "            <td>facts</td>\n",
       "            <td>47</td>\n",
       "            <td>CREATE TABLE &quot;facts&quot; (&quot;id&quot; INTEGER PRIMARY KEY AUTOINCREMENT NOT NULL, &quot;code&quot; varchar(255) NOT NULL, &quot;name&quot; varchar(255) NOT NULL, &quot;area&quot; integer, &quot;area_land&quot; integer, &quot;area_water&quot; integer, &quot;population&quot; integer, &quot;population_growth&quot; float, &quot;birth_rate&quot; float, &quot;death_rate&quot; float, &quot;migration_rate&quot; float)</td>\n",
       "        </tr>\n",
       "    </tbody>\n",
       "</table>"
      ],
      "text/plain": [
       "[('table', 'sqlite_sequence', 'sqlite_sequence', 3, 'CREATE TABLE sqlite_sequence(name,seq)'),\n",
       " ('table', 'facts', 'facts', 47, 'CREATE TABLE \"facts\" (\"id\" INTEGER PRIMARY KEY AUTOINCREMENT NOT NULL, \"code\" varchar(255) NOT NULL, \"name\" varchar(255) NOT NULL, \"area\" integer, \"a ... (4 characters truncated) ... land\" integer, \"area_water\" integer, \"population\" integer, \"population_growth\" float, \"birth_rate\" float, \"death_rate\" float, \"migration_rate\" float)')]"
      ]
     },
     "execution_count": 3,
     "metadata": {},
     "output_type": "execute_result"
    }
   ],
   "source": [
    "%%sql\n",
    "SELECT * \n",
    "    FROM sqlite_master\n",
    "    WHERE type = 'table';"
   ]
  },
  {
   "cell_type": "markdown",
   "id": "30cec6a5",
   "metadata": {},
   "source": [
    "This query retrieves information about tables in an SQLite database. The sqlite_master table is a system table in SQLite that stores metadata about the database schema, including information about tables, views, and other database objects.\n",
    "\n",
    "By the output above, we have that this dataset has two tables named **sqlite_sequence** and **facts**. The table **sqlite_sequence** contains the column's name and seq.  **facts** contains:\n",
    "- id type integer and is a PRIMARY KEY\n",
    "- code type varchar(255)\n",
    "- name type varchar(255)\n",
    "- area type integer\n",
    "- area_land type integer\n",
    "- area_water type integer\n",
    "- population type integer\n",
    "- population_growt type float\n",
    "- birth_rate type float\n",
    "- death_rate type float\n",
    "- migration_rate type float\n"
   ]
  },
  {
   "cell_type": "markdown",
   "id": "d1ef3770",
   "metadata": {},
   "source": [
    "Time to start to see things closer to find escape routes and problems that need to be dealt with before the real mission starts. We can start by taking a look at the first 5 rows."
   ]
  },
  {
   "cell_type": "code",
   "execution_count": 4,
   "id": "790b0389",
   "metadata": {
    "scrolled": true
   },
   "outputs": [
    {
     "name": "stdout",
     "output_type": "stream",
     "text": [
      " * sqlite:///factbook(1).db\n",
      "Done.\n"
     ]
    },
    {
     "data": {
      "text/html": [
       "<table>\n",
       "    <thead>\n",
       "        <tr>\n",
       "            <th>id</th>\n",
       "            <th>code</th>\n",
       "            <th>name</th>\n",
       "            <th>area</th>\n",
       "            <th>area_land</th>\n",
       "            <th>area_water</th>\n",
       "            <th>population</th>\n",
       "            <th>population_growth</th>\n",
       "            <th>birth_rate</th>\n",
       "            <th>death_rate</th>\n",
       "            <th>migration_rate</th>\n",
       "        </tr>\n",
       "    </thead>\n",
       "    <tbody>\n",
       "        <tr>\n",
       "            <td>1</td>\n",
       "            <td>af</td>\n",
       "            <td>Afghanistan</td>\n",
       "            <td>652230</td>\n",
       "            <td>652230</td>\n",
       "            <td>0</td>\n",
       "            <td>32564342</td>\n",
       "            <td>2.32</td>\n",
       "            <td>38.57</td>\n",
       "            <td>13.89</td>\n",
       "            <td>1.51</td>\n",
       "        </tr>\n",
       "        <tr>\n",
       "            <td>2</td>\n",
       "            <td>al</td>\n",
       "            <td>Albania</td>\n",
       "            <td>28748</td>\n",
       "            <td>27398</td>\n",
       "            <td>1350</td>\n",
       "            <td>3029278</td>\n",
       "            <td>0.3</td>\n",
       "            <td>12.92</td>\n",
       "            <td>6.58</td>\n",
       "            <td>3.3</td>\n",
       "        </tr>\n",
       "        <tr>\n",
       "            <td>3</td>\n",
       "            <td>ag</td>\n",
       "            <td>Algeria</td>\n",
       "            <td>2381741</td>\n",
       "            <td>2381741</td>\n",
       "            <td>0</td>\n",
       "            <td>39542166</td>\n",
       "            <td>1.84</td>\n",
       "            <td>23.67</td>\n",
       "            <td>4.31</td>\n",
       "            <td>0.92</td>\n",
       "        </tr>\n",
       "        <tr>\n",
       "            <td>4</td>\n",
       "            <td>an</td>\n",
       "            <td>Andorra</td>\n",
       "            <td>468</td>\n",
       "            <td>468</td>\n",
       "            <td>0</td>\n",
       "            <td>85580</td>\n",
       "            <td>0.12</td>\n",
       "            <td>8.13</td>\n",
       "            <td>6.96</td>\n",
       "            <td>0.0</td>\n",
       "        </tr>\n",
       "        <tr>\n",
       "            <td>5</td>\n",
       "            <td>ao</td>\n",
       "            <td>Angola</td>\n",
       "            <td>1246700</td>\n",
       "            <td>1246700</td>\n",
       "            <td>0</td>\n",
       "            <td>19625353</td>\n",
       "            <td>2.78</td>\n",
       "            <td>38.78</td>\n",
       "            <td>11.49</td>\n",
       "            <td>0.46</td>\n",
       "        </tr>\n",
       "    </tbody>\n",
       "</table>"
      ],
      "text/plain": [
       "[(1, 'af', 'Afghanistan', 652230, 652230, 0, 32564342, 2.32, 38.57, 13.89, 1.51),\n",
       " (2, 'al', 'Albania', 28748, 27398, 1350, 3029278, 0.3, 12.92, 6.58, 3.3),\n",
       " (3, 'ag', 'Algeria', 2381741, 2381741, 0, 39542166, 1.84, 23.67, 4.31, 0.92),\n",
       " (4, 'an', 'Andorra', 468, 468, 0, 85580, 0.12, 8.13, 6.96, 0.0),\n",
       " (5, 'ao', 'Angola', 1246700, 1246700, 0, 19625353, 2.78, 38.78, 11.49, 0.46)]"
      ]
     },
     "execution_count": 4,
     "metadata": {},
     "output_type": "execute_result"
    }
   ],
   "source": [
    "%%sql\n",
    "SELECT *\n",
    "  FROM facts\n",
    " LIMIT 5;"
   ]
  },
  {
   "cell_type": "markdown",
   "id": "5f866f35",
   "metadata": {},
   "source": [
    "Here are the descriptions for some of the columns:\n",
    "\n",
    "name — the name of the country.\n",
    "<br>area— the country's total area (is the sum of land and water area).\n",
    "<br>area_land — the country's land area in square kilometers.\n",
    "<br>area_water — the country's water area in square kilometers.\n",
    "<br>population — the country's population.\n",
    "<br>population_growth— the country's population growth as a percentage.\n",
    "<br>birth_rate — the country's birth rate, or the number of births per year per 1,000 people.\n",
    "<br>death_rate — the country's death rate, or the number of death per year per 1,000 people."
   ]
  },
  {
   "cell_type": "markdown",
   "id": "0b778ba9",
   "metadata": {},
   "source": [
    "### Summary statistics and Outliers search"
   ]
  },
  {
   "cell_type": "markdown",
   "id": "5f6c173b",
   "metadata": {},
   "source": [
    "Yet on the terrain reconnaissance is necessary to spot the sneakiest enemies. "
   ]
  },
  {
   "cell_type": "code",
   "execution_count": 5,
   "id": "9796ba62",
   "metadata": {},
   "outputs": [
    {
     "name": "stdout",
     "output_type": "stream",
     "text": [
      " * sqlite:///factbook(1).db\n",
      "Done.\n"
     ]
    },
    {
     "data": {
      "text/html": [
       "<table>\n",
       "    <thead>\n",
       "        <tr>\n",
       "            <th>MIN(population)</th>\n",
       "            <th>MAX(population)</th>\n",
       "            <th>MIN(population_growth)</th>\n",
       "            <th>MAX(population_growth)</th>\n",
       "        </tr>\n",
       "    </thead>\n",
       "    <tbody>\n",
       "        <tr>\n",
       "            <td>0</td>\n",
       "            <td>7256490011</td>\n",
       "            <td>0.0</td>\n",
       "            <td>4.02</td>\n",
       "        </tr>\n",
       "    </tbody>\n",
       "</table>"
      ],
      "text/plain": [
       "[(0, 7256490011, 0.0, 4.02)]"
      ]
     },
     "execution_count": 5,
     "metadata": {},
     "output_type": "execute_result"
    }
   ],
   "source": [
    "%%sql\n",
    "SELECT MIN(population), MAX(population), MIN(population_growth), MAX(population_growth)\n",
    "    FROM facts;"
   ]
  },
  {
   "cell_type": "markdown",
   "id": "ad949ade",
   "metadata": {},
   "source": [
    "In the summary statistics we can note that:\n",
    "1. There's a country with a population of 0\n",
    "2. There's a country with a population of more than 7.2 billion people\n",
    "\n",
    "We can dig deeper on the info using subqueries as follows :"
   ]
  },
  {
   "cell_type": "markdown",
   "id": "adb13efa",
   "metadata": {},
   "source": [
    "#### Finding the Country with 0 population"
   ]
  },
  {
   "cell_type": "code",
   "execution_count": 6,
   "id": "74383bbf",
   "metadata": {},
   "outputs": [
    {
     "name": "stdout",
     "output_type": "stream",
     "text": [
      " * sqlite:///factbook(1).db\n",
      "Done.\n"
     ]
    },
    {
     "data": {
      "text/html": [
       "<table>\n",
       "    <thead>\n",
       "        <tr>\n",
       "            <th>name</th>\n",
       "            <th>population</th>\n",
       "        </tr>\n",
       "    </thead>\n",
       "    <tbody>\n",
       "        <tr>\n",
       "            <td>Antarctica</td>\n",
       "            <td>0</td>\n",
       "        </tr>\n",
       "    </tbody>\n",
       "</table>"
      ],
      "text/plain": [
       "[('Antarctica', 0)]"
      ]
     },
     "execution_count": 6,
     "metadata": {},
     "output_type": "execute_result"
    }
   ],
   "source": [
    "%%sql\n",
    "SELECT name, population\n",
    "    FROM facts\n",
    "    WHERE population == (SELECT MIN(population)\n",
    "              FROM facts)"
   ]
  },
  {
   "cell_type": "markdown",
   "id": "62943b64",
   "metadata": {},
   "source": [
    "#### Finding the Country with 7.2million population"
   ]
  },
  {
   "cell_type": "code",
   "execution_count": 7,
   "id": "4e5c8848",
   "metadata": {},
   "outputs": [
    {
     "name": "stdout",
     "output_type": "stream",
     "text": [
      " * sqlite:///factbook(1).db\n",
      "Done.\n"
     ]
    },
    {
     "data": {
      "text/html": [
       "<table>\n",
       "    <thead>\n",
       "        <tr>\n",
       "            <th>name</th>\n",
       "            <th>population</th>\n",
       "        </tr>\n",
       "    </thead>\n",
       "    <tbody>\n",
       "        <tr>\n",
       "            <td>World</td>\n",
       "            <td>7256490011</td>\n",
       "        </tr>\n",
       "    </tbody>\n",
       "</table>"
      ],
      "text/plain": [
       "[('World', 7256490011)]"
      ]
     },
     "execution_count": 7,
     "metadata": {},
     "output_type": "execute_result"
    }
   ],
   "source": [
    "%%sql\n",
    "SELECT name, population\n",
    "    FROM facts\n",
    "    ORDER BY population DESC\n",
    "    LIMIT 1;"
   ]
  },
  {
   "cell_type": "markdown",
   "id": "205c5217",
   "metadata": {},
   "source": [
    "Here it is! Our outlier is actually the total for all observation as the the World population is the sum of population of all countries for the year of 2015 according to [Worldometer](https://www.worldometers.info/world-population/world-population-by-year/). So in this case it is necessary to remove our outlier."
   ]
  },
  {
   "cell_type": "markdown",
   "id": "dca80dfb",
   "metadata": {},
   "source": [
    "###### Remember: \n",
    "After a target neutralization is necessary to assess the situation again. The removal of a target can generate more trouble in the long run. Thus is necessary to make the reconnaissance again without them. So after removing a outlier, ***always*** do the summary again!"
   ]
  },
  {
   "cell_type": "markdown",
   "id": "699a9781",
   "metadata": {},
   "source": [
    "#### Summary statistics without Outliers"
   ]
  },
  {
   "cell_type": "code",
   "execution_count": 8,
   "id": "7973fee8",
   "metadata": {},
   "outputs": [
    {
     "name": "stdout",
     "output_type": "stream",
     "text": [
      " * sqlite:///factbook(1).db\n",
      "Done.\n"
     ]
    },
    {
     "data": {
      "text/html": [
       "<table>\n",
       "    <thead>\n",
       "        <tr>\n",
       "            <th>MIN(population)</th>\n",
       "            <th>MAX(population)</th>\n",
       "            <th>MIN(population_growth)</th>\n",
       "            <th>MAX(population_growth)</th>\n",
       "        </tr>\n",
       "    </thead>\n",
       "    <tbody>\n",
       "        <tr>\n",
       "            <td>0</td>\n",
       "            <td>1367485388</td>\n",
       "            <td>0.0</td>\n",
       "            <td>4.02</td>\n",
       "        </tr>\n",
       "    </tbody>\n",
       "</table>"
      ],
      "text/plain": [
       "[(0, 1367485388, 0.0, 4.02)]"
      ]
     },
     "execution_count": 8,
     "metadata": {},
     "output_type": "execute_result"
    }
   ],
   "source": [
    "%%sql\n",
    "SELECT MIN(population), MAX(population), MIN(population_growth), MAX(population_growth)\n",
    "    FROM facts\n",
    "    WHERE name <> 'World';"
   ]
  },
  {
   "cell_type": "code",
   "execution_count": 9,
   "id": "81796a70",
   "metadata": {},
   "outputs": [
    {
     "name": "stdout",
     "output_type": "stream",
     "text": [
      " * sqlite:///factbook(1).db\n",
      "Done.\n"
     ]
    },
    {
     "data": {
      "text/html": [
       "<table>\n",
       "    <thead>\n",
       "        <tr>\n",
       "            <th>avg_pop</th>\n",
       "            <th>avg_area</th>\n",
       "        </tr>\n",
       "    </thead>\n",
       "    <tbody>\n",
       "        <tr>\n",
       "            <td>32242666.56846473</td>\n",
       "            <td>555093.546184739</td>\n",
       "        </tr>\n",
       "    </tbody>\n",
       "</table>"
      ],
      "text/plain": [
       "[(32242666.56846473, 555093.546184739)]"
      ]
     },
     "execution_count": 9,
     "metadata": {},
     "output_type": "execute_result"
    }
   ],
   "source": [
    "%%sql\n",
    "SELECT AVG(population) AS avg_pop, AVG(area) AS avg_area\n",
    "    FROM facts\n",
    "    WHERE name <> 'World';"
   ]
  },
  {
   "cell_type": "markdown",
   "id": "fed28a71",
   "metadata": {},
   "source": [
    "**ALL GOOD... PHASE 1 COMPLETED!** 🏅"
   ]
  },
  {
   "cell_type": "markdown",
   "id": "540b28fc",
   "metadata": {},
   "source": [
    "## Operation ´Eagle Out of The Neast´ Starts\n",
    "\n",
    "### Identifying Densely Populated Countries"
   ]
  },
  {
   "cell_type": "code",
   "execution_count": 10,
   "id": "3ab69af3",
   "metadata": {},
   "outputs": [
    {
     "name": "stdout",
     "output_type": "stream",
     "text": [
      " * sqlite:///factbook(1).db\n",
      "Done.\n"
     ]
    },
    {
     "data": {
      "text/html": [
       "<table>\n",
       "    <thead>\n",
       "        <tr>\n",
       "            <th>id</th>\n",
       "            <th>code</th>\n",
       "            <th>name</th>\n",
       "            <th>area</th>\n",
       "            <th>area_land</th>\n",
       "            <th>area_water</th>\n",
       "            <th>population</th>\n",
       "            <th>population_growth</th>\n",
       "            <th>birth_rate</th>\n",
       "            <th>death_rate</th>\n",
       "            <th>migration_rate</th>\n",
       "        </tr>\n",
       "    </thead>\n",
       "    <tbody>\n",
       "        <tr>\n",
       "            <td>14</td>\n",
       "            <td>bg</td>\n",
       "            <td>Bangladesh</td>\n",
       "            <td>148460</td>\n",
       "            <td>130170</td>\n",
       "            <td>18290</td>\n",
       "            <td>168957745</td>\n",
       "            <td>1.6</td>\n",
       "            <td>21.14</td>\n",
       "            <td>5.61</td>\n",
       "            <td>0.46</td>\n",
       "        </tr>\n",
       "        <tr>\n",
       "            <td>65</td>\n",
       "            <td>gm</td>\n",
       "            <td>Germany</td>\n",
       "            <td>357022</td>\n",
       "            <td>348672</td>\n",
       "            <td>8350</td>\n",
       "            <td>80854408</td>\n",
       "            <td>0.17</td>\n",
       "            <td>8.47</td>\n",
       "            <td>11.42</td>\n",
       "            <td>1.24</td>\n",
       "        </tr>\n",
       "        <tr>\n",
       "            <td>80</td>\n",
       "            <td>iz</td>\n",
       "            <td>Iraq</td>\n",
       "            <td>438317</td>\n",
       "            <td>437367</td>\n",
       "            <td>950</td>\n",
       "            <td>37056169</td>\n",
       "            <td>2.93</td>\n",
       "            <td>31.45</td>\n",
       "            <td>3.77</td>\n",
       "            <td>1.62</td>\n",
       "        </tr>\n",
       "        <tr>\n",
       "            <td>83</td>\n",
       "            <td>it</td>\n",
       "            <td>Italy</td>\n",
       "            <td>301340</td>\n",
       "            <td>294140</td>\n",
       "            <td>7200</td>\n",
       "            <td>61855120</td>\n",
       "            <td>0.27</td>\n",
       "            <td>8.74</td>\n",
       "            <td>10.19</td>\n",
       "            <td>4.1</td>\n",
       "        </tr>\n",
       "        <tr>\n",
       "            <td>85</td>\n",
       "            <td>ja</td>\n",
       "            <td>Japan</td>\n",
       "            <td>377915</td>\n",
       "            <td>364485</td>\n",
       "            <td>13430</td>\n",
       "            <td>126919659</td>\n",
       "            <td>0.16</td>\n",
       "            <td>7.93</td>\n",
       "            <td>9.51</td>\n",
       "            <td>0.0</td>\n",
       "        </tr>\n",
       "        <tr>\n",
       "            <td>91</td>\n",
       "            <td>ks</td>\n",
       "            <td>Korea, South</td>\n",
       "            <td>99720</td>\n",
       "            <td>96920</td>\n",
       "            <td>2800</td>\n",
       "            <td>49115196</td>\n",
       "            <td>0.14</td>\n",
       "            <td>8.19</td>\n",
       "            <td>6.75</td>\n",
       "            <td>0.0</td>\n",
       "        </tr>\n",
       "        <tr>\n",
       "            <td>120</td>\n",
       "            <td>mo</td>\n",
       "            <td>Morocco</td>\n",
       "            <td>446550</td>\n",
       "            <td>446300</td>\n",
       "            <td>250</td>\n",
       "            <td>33322699</td>\n",
       "            <td>1.0</td>\n",
       "            <td>18.2</td>\n",
       "            <td>4.81</td>\n",
       "            <td>3.36</td>\n",
       "        </tr>\n",
       "        <tr>\n",
       "            <td>138</td>\n",
       "            <td>rp</td>\n",
       "            <td>Philippines</td>\n",
       "            <td>300000</td>\n",
       "            <td>298170</td>\n",
       "            <td>1830</td>\n",
       "            <td>100998376</td>\n",
       "            <td>1.61</td>\n",
       "            <td>24.27</td>\n",
       "            <td>6.11</td>\n",
       "            <td>2.09</td>\n",
       "        </tr>\n",
       "        <tr>\n",
       "            <td>139</td>\n",
       "            <td>pl</td>\n",
       "            <td>Poland</td>\n",
       "            <td>312685</td>\n",
       "            <td>304255</td>\n",
       "            <td>8430</td>\n",
       "            <td>38562189</td>\n",
       "            <td>0.09</td>\n",
       "            <td>9.74</td>\n",
       "            <td>10.19</td>\n",
       "            <td>0.46</td>\n",
       "        </tr>\n",
       "        <tr>\n",
       "            <td>163</td>\n",
       "            <td>sp</td>\n",
       "            <td>Spain</td>\n",
       "            <td>505370</td>\n",
       "            <td>498980</td>\n",
       "            <td>6390</td>\n",
       "            <td>48146134</td>\n",
       "            <td>0.89</td>\n",
       "            <td>9.64</td>\n",
       "            <td>9.04</td>\n",
       "            <td>8.31</td>\n",
       "        </tr>\n",
       "        <tr>\n",
       "            <td>173</td>\n",
       "            <td>th</td>\n",
       "            <td>Thailand</td>\n",
       "            <td>513120</td>\n",
       "            <td>510890</td>\n",
       "            <td>2230</td>\n",
       "            <td>67976405</td>\n",
       "            <td>0.34</td>\n",
       "            <td>11.19</td>\n",
       "            <td>7.8</td>\n",
       "            <td>0.0</td>\n",
       "        </tr>\n",
       "        <tr>\n",
       "            <td>182</td>\n",
       "            <td>ug</td>\n",
       "            <td>Uganda</td>\n",
       "            <td>241038</td>\n",
       "            <td>197100</td>\n",
       "            <td>43938</td>\n",
       "            <td>37101745</td>\n",
       "            <td>3.24</td>\n",
       "            <td>43.79</td>\n",
       "            <td>10.69</td>\n",
       "            <td>0.74</td>\n",
       "        </tr>\n",
       "        <tr>\n",
       "            <td>185</td>\n",
       "            <td>uk</td>\n",
       "            <td>United Kingdom</td>\n",
       "            <td>243610</td>\n",
       "            <td>241930</td>\n",
       "            <td>1680</td>\n",
       "            <td>64088222</td>\n",
       "            <td>0.54</td>\n",
       "            <td>12.17</td>\n",
       "            <td>9.35</td>\n",
       "            <td>2.54</td>\n",
       "        </tr>\n",
       "        <tr>\n",
       "            <td>192</td>\n",
       "            <td>vm</td>\n",
       "            <td>Vietnam</td>\n",
       "            <td>331210</td>\n",
       "            <td>310070</td>\n",
       "            <td>21140</td>\n",
       "            <td>94348835</td>\n",
       "            <td>0.97</td>\n",
       "            <td>15.96</td>\n",
       "            <td>5.93</td>\n",
       "            <td>0.3</td>\n",
       "        </tr>\n",
       "    </tbody>\n",
       "</table>"
      ],
      "text/plain": [
       "[(14, 'bg', 'Bangladesh', 148460, 130170, 18290, 168957745, 1.6, 21.14, 5.61, 0.46),\n",
       " (65, 'gm', 'Germany', 357022, 348672, 8350, 80854408, 0.17, 8.47, 11.42, 1.24),\n",
       " (80, 'iz', 'Iraq', 438317, 437367, 950, 37056169, 2.93, 31.45, 3.77, 1.62),\n",
       " (83, 'it', 'Italy', 301340, 294140, 7200, 61855120, 0.27, 8.74, 10.19, 4.1),\n",
       " (85, 'ja', 'Japan', 377915, 364485, 13430, 126919659, 0.16, 7.93, 9.51, 0.0),\n",
       " (91, 'ks', 'Korea, South', 99720, 96920, 2800, 49115196, 0.14, 8.19, 6.75, 0.0),\n",
       " (120, 'mo', 'Morocco', 446550, 446300, 250, 33322699, 1.0, 18.2, 4.81, 3.36),\n",
       " (138, 'rp', 'Philippines', 300000, 298170, 1830, 100998376, 1.61, 24.27, 6.11, 2.09),\n",
       " (139, 'pl', 'Poland', 312685, 304255, 8430, 38562189, 0.09, 9.74, 10.19, 0.46),\n",
       " (163, 'sp', 'Spain', 505370, 498980, 6390, 48146134, 0.89, 9.64, 9.04, 8.31),\n",
       " (173, 'th', 'Thailand', 513120, 510890, 2230, 67976405, 0.34, 11.19, 7.8, 0.0),\n",
       " (182, 'ug', 'Uganda', 241038, 197100, 43938, 37101745, 3.24, 43.79, 10.69, 0.74),\n",
       " (185, 'uk', 'United Kingdom', 243610, 241930, 1680, 64088222, 0.54, 12.17, 9.35, 2.54),\n",
       " (192, 'vm', 'Vietnam', 331210, 310070, 21140, 94348835, 0.97, 15.96, 5.93, 0.3)]"
      ]
     },
     "execution_count": 10,
     "metadata": {},
     "output_type": "execute_result"
    }
   ],
   "source": [
    "%%sql\n",
    "SELECT *\n",
    "  FROM facts\n",
    " WHERE population > (SELECT AVG(population)\n",
    "                       FROM facts\n",
    "                      WHERE name <> 'World'\n",
    "                    )\n",
    "   AND area < (SELECT AVG(area)\n",
    "                 FROM facts\n",
    "                WHERE name <> 'World'\n",
    ");"
   ]
  },
  {
   "cell_type": "markdown",
   "id": "8d84f963",
   "metadata": {},
   "source": [
    "#### Which country has the most people? Which country has the highest growth rate?"
   ]
  },
  {
   "cell_type": "code",
   "execution_count": 11,
   "id": "87e71c34",
   "metadata": {},
   "outputs": [
    {
     "name": "stdout",
     "output_type": "stream",
     "text": [
      " * sqlite:///factbook(1).db\n",
      "Done.\n"
     ]
    },
    {
     "data": {
      "text/html": [
       "<table>\n",
       "    <thead>\n",
       "        <tr>\n",
       "            <th>name</th>\n",
       "            <th>population</th>\n",
       "            <th>birth_rate</th>\n",
       "        </tr>\n",
       "    </thead>\n",
       "    <tbody>\n",
       "        <tr>\n",
       "            <td>China</td>\n",
       "            <td>1367485388</td>\n",
       "            <td>12.49</td>\n",
       "        </tr>\n",
       "        <tr>\n",
       "            <td>Niger</td>\n",
       "            <td>18045729</td>\n",
       "            <td>45.45</td>\n",
       "        </tr>\n",
       "    </tbody>\n",
       "</table>"
      ],
      "text/plain": [
       "[('China', 1367485388, 12.49), ('Niger', 18045729, 45.45)]"
      ]
     },
     "execution_count": 11,
     "metadata": {},
     "output_type": "execute_result"
    }
   ],
   "source": [
    "%%sql\n",
    "SELECT name, population, birth_rate\n",
    "    FROM facts\n",
    "    WHERE population == (SELECT MAX(population)\n",
    "                        FROM facts\n",
    "                        WHERE name <> \"World\") OR birth_rate == (SELECT MAX(birth_rate)\n",
    "                                                                 FROM facts\n",
    "                                                                 WHERE name <> \"World\")"
   ]
  },
  {
   "cell_type": "markdown",
   "id": "c41592af",
   "metadata": {},
   "source": [
    "From the data collected is possible to conclude that China has the biggest population. Yet, the country with the biggest growth rate expressed by birth_rate is Niger. For verify the top 5 countries in terms of biggest population, we can do ?"
   ]
  },
  {
   "cell_type": "code",
   "execution_count": 12,
   "id": "43e826b0",
   "metadata": {},
   "outputs": [
    {
     "name": "stdout",
     "output_type": "stream",
     "text": [
      " * sqlite:///factbook(1).db\n",
      "Done.\n"
     ]
    },
    {
     "data": {
      "text/html": [
       "<table>\n",
       "    <thead>\n",
       "        <tr>\n",
       "            <th>name</th>\n",
       "            <th>population</th>\n",
       "            <th>birth_rate</th>\n",
       "        </tr>\n",
       "    </thead>\n",
       "    <tbody>\n",
       "        <tr>\n",
       "            <td>China</td>\n",
       "            <td>1367485388</td>\n",
       "            <td>12.49</td>\n",
       "        </tr>\n",
       "        <tr>\n",
       "            <td>India</td>\n",
       "            <td>1251695584</td>\n",
       "            <td>19.55</td>\n",
       "        </tr>\n",
       "        <tr>\n",
       "            <td>European Union</td>\n",
       "            <td>513949445</td>\n",
       "            <td>10.2</td>\n",
       "        </tr>\n",
       "        <tr>\n",
       "            <td>United States</td>\n",
       "            <td>321368864</td>\n",
       "            <td>12.49</td>\n",
       "        </tr>\n",
       "        <tr>\n",
       "            <td>Indonesia</td>\n",
       "            <td>255993674</td>\n",
       "            <td>16.72</td>\n",
       "        </tr>\n",
       "    </tbody>\n",
       "</table>"
      ],
      "text/plain": [
       "[('China', 1367485388, 12.49),\n",
       " ('India', 1251695584, 19.55),\n",
       " ('European Union', 513949445, 10.2),\n",
       " ('United States', 321368864, 12.49),\n",
       " ('Indonesia', 255993674, 16.72)]"
      ]
     },
     "execution_count": 12,
     "metadata": {},
     "output_type": "execute_result"
    }
   ],
   "source": [
    "%%sql\n",
    "SELECT name, population, birth_rate\n",
    "    FROM facts\n",
    "    WHERE name != \"World\"\n",
    "    ORDER BY population DESC\n",
    "    LIMIT 5;"
   ]
  },
  {
   "cell_type": "markdown",
   "id": "3625bae0",
   "metadata": {},
   "source": [
    "To identify the top 5 in number of births we can run the following query:"
   ]
  },
  {
   "cell_type": "code",
   "execution_count": 13,
   "id": "d8c850f9",
   "metadata": {},
   "outputs": [
    {
     "name": "stdout",
     "output_type": "stream",
     "text": [
      " * sqlite:///factbook(1).db\n",
      "Done.\n"
     ]
    },
    {
     "data": {
      "text/html": [
       "<table>\n",
       "    <thead>\n",
       "        <tr>\n",
       "            <th>name</th>\n",
       "            <th>birth_rate</th>\n",
       "            <th>death_rate</th>\n",
       "        </tr>\n",
       "    </thead>\n",
       "    <tbody>\n",
       "        <tr>\n",
       "            <td>Niger</td>\n",
       "            <td>45.45</td>\n",
       "            <td>12.42</td>\n",
       "        </tr>\n",
       "        <tr>\n",
       "            <td>Mali</td>\n",
       "            <td>44.99</td>\n",
       "            <td>12.89</td>\n",
       "        </tr>\n",
       "        <tr>\n",
       "            <td>Uganda</td>\n",
       "            <td>43.79</td>\n",
       "            <td>10.69</td>\n",
       "        </tr>\n",
       "        <tr>\n",
       "            <td>Zambia</td>\n",
       "            <td>42.13</td>\n",
       "            <td>12.67</td>\n",
       "        </tr>\n",
       "        <tr>\n",
       "            <td>Burkina Faso</td>\n",
       "            <td>42.03</td>\n",
       "            <td>11.72</td>\n",
       "        </tr>\n",
       "    </tbody>\n",
       "</table>"
      ],
      "text/plain": [
       "[('Niger', 45.45, 12.42),\n",
       " ('Mali', 44.99, 12.89),\n",
       " ('Uganda', 43.79, 10.69),\n",
       " ('Zambia', 42.13, 12.67),\n",
       " ('Burkina Faso', 42.03, 11.72)]"
      ]
     },
     "execution_count": 13,
     "metadata": {},
     "output_type": "execute_result"
    }
   ],
   "source": [
    "%%sql\n",
    "SELECT name, birth_rate, death_rate\n",
    "    FROM facts\n",
    "    WHERE name != \"World\"\n",
    "    ORDER BY birth_rate DESC\n",
    "    LIMIT 5;"
   ]
  },
  {
   "cell_type": "markdown",
   "id": "f3a852f4",
   "metadata": {},
   "source": [
    "#### What are the Countries with the smallest total population? "
   ]
  },
  {
   "cell_type": "code",
   "execution_count": 14,
   "id": "b0c4ef20",
   "metadata": {},
   "outputs": [
    {
     "name": "stdout",
     "output_type": "stream",
     "text": [
      " * sqlite:///factbook(1).db\n",
      "Done.\n"
     ]
    },
    {
     "data": {
      "text/html": [
       "<table>\n",
       "    <thead>\n",
       "        <tr>\n",
       "            <th>name</th>\n",
       "            <th>population</th>\n",
       "            <th>birth_rate</th>\n",
       "        </tr>\n",
       "    </thead>\n",
       "    <tbody>\n",
       "        <tr>\n",
       "            <td>Antarctica</td>\n",
       "            <td>0</td>\n",
       "            <td>None</td>\n",
       "        </tr>\n",
       "        <tr>\n",
       "            <td>Pitcairn Islands</td>\n",
       "            <td>48</td>\n",
       "            <td>None</td>\n",
       "        </tr>\n",
       "        <tr>\n",
       "            <td>Cocos (Keeling) Islands</td>\n",
       "            <td>596</td>\n",
       "            <td>None</td>\n",
       "        </tr>\n",
       "        <tr>\n",
       "            <td>Holy See (Vatican City)</td>\n",
       "            <td>842</td>\n",
       "            <td>None</td>\n",
       "        </tr>\n",
       "        <tr>\n",
       "            <td>Niue</td>\n",
       "            <td>1190</td>\n",
       "            <td>None</td>\n",
       "        </tr>\n",
       "    </tbody>\n",
       "</table>"
      ],
      "text/plain": [
       "[('Antarctica', 0, None),\n",
       " ('Pitcairn Islands', 48, None),\n",
       " ('Cocos (Keeling) Islands', 596, None),\n",
       " ('Holy See (Vatican City)', 842, None),\n",
       " ('Niue', 1190, None)]"
      ]
     },
     "execution_count": 14,
     "metadata": {},
     "output_type": "execute_result"
    }
   ],
   "source": [
    "%%sql\n",
    "SELECT name, population, birth_rate\n",
    "    FROM facts\n",
    "    WHERE population != \"None\"\n",
    "    ORDER BY population ASC\n",
    "    LIMIT 5;"
   ]
  },
  {
   "cell_type": "markdown",
   "id": "c15bae24",
   "metadata": {},
   "source": [
    "#### Which countries have the highest ratios of water to land? Which countries have more water than land?"
   ]
  },
  {
   "cell_type": "code",
   "execution_count": 15,
   "id": "4ff9463a",
   "metadata": {},
   "outputs": [
    {
     "name": "stdout",
     "output_type": "stream",
     "text": [
      " * sqlite:///factbook(1).db\n",
      "Done.\n"
     ]
    },
    {
     "data": {
      "text/html": [
       "<table>\n",
       "    <thead>\n",
       "        <tr>\n",
       "            <th>name</th>\n",
       "            <th>ratio_water_land</th>\n",
       "        </tr>\n",
       "    </thead>\n",
       "    <tbody>\n",
       "        <tr>\n",
       "            <td>British Indian Ocean Territory</td>\n",
       "            <td>905.6666666666666</td>\n",
       "        </tr>\n",
       "    </tbody>\n",
       "</table>"
      ],
      "text/plain": [
       "[('British Indian Ocean Territory', 905.6666666666666)]"
      ]
     },
     "execution_count": 15,
     "metadata": {},
     "output_type": "execute_result"
    }
   ],
   "source": [
    "%%sql\n",
    "SELECT name, cast(area_water as Float)/cast(area_land as Float) AS ratio_water_land\n",
    "    FROM facts\n",
    "    WHERE name <> 'World'\n",
    "    ORDER BY ratio_water_land DESC\n",
    "    LIMIT 1;\n",
    "    "
   ]
  },
  {
   "cell_type": "code",
   "execution_count": 16,
   "id": "ddee8221",
   "metadata": {},
   "outputs": [
    {
     "name": "stdout",
     "output_type": "stream",
     "text": [
      " * sqlite:///factbook(1).db\n",
      "Done.\n"
     ]
    },
    {
     "data": {
      "text/html": [
       "<table>\n",
       "    <thead>\n",
       "        <tr>\n",
       "            <th>name</th>\n",
       "            <th>area_water</th>\n",
       "        </tr>\n",
       "    </thead>\n",
       "    <tbody>\n",
       "        <tr>\n",
       "            <td>British Indian Ocean Territory</td>\n",
       "            <td>54340</td>\n",
       "        </tr>\n",
       "        <tr>\n",
       "            <td>Virgin Islands</td>\n",
       "            <td>1564</td>\n",
       "        </tr>\n",
       "    </tbody>\n",
       "</table>"
      ],
      "text/plain": [
       "[('British Indian Ocean Territory', 54340), ('Virgin Islands', 1564)]"
      ]
     },
     "execution_count": 16,
     "metadata": {},
     "output_type": "execute_result"
    }
   ],
   "source": [
    "%%sql\n",
    "SELECT name, area_water\n",
    "    FROM facts\n",
    "    WHERE area_water > area_land\n",
    "    ORDER BY area_water DESC"
   ]
  },
  {
   "cell_type": "markdown",
   "id": "c09c1a90",
   "metadata": {},
   "source": [
    "British Indian Ocean Territory is easier to get away by boat, there is water everywhere the ratio_water land is the biggest one followed by Virgin Islands."
   ]
  },
  {
   "cell_type": "markdown",
   "id": "8628fd88",
   "metadata": {},
   "source": [
    "#### Which countries will add the most people to their populations next year?"
   ]
  },
  {
   "cell_type": "code",
   "execution_count": 17,
   "id": "705b56a2",
   "metadata": {},
   "outputs": [
    {
     "name": "stdout",
     "output_type": "stream",
     "text": [
      " * sqlite:///factbook(1).db\n",
      "Done.\n"
     ]
    },
    {
     "data": {
      "text/html": [
       "<table>\n",
       "    <thead>\n",
       "        <tr>\n",
       "            <th>name</th>\n",
       "            <th>increase</th>\n",
       "        </tr>\n",
       "    </thead>\n",
       "    <tbody>\n",
       "        <tr>\n",
       "            <td>Malawi</td>\n",
       "            <td>3.32</td>\n",
       "        </tr>\n",
       "    </tbody>\n",
       "</table>"
      ],
      "text/plain": [
       "[('Malawi', 3.32)]"
      ]
     },
     "execution_count": 17,
     "metadata": {},
     "output_type": "execute_result"
    }
   ],
   "source": [
    "%%sql\n",
    "SELECT name, MAX(population_growth - migration_rate) As increase\n",
    "    FROM facts"
   ]
  },
  {
   "cell_type": "code",
   "execution_count": 18,
   "id": "b77764eb",
   "metadata": {},
   "outputs": [
    {
     "name": "stdout",
     "output_type": "stream",
     "text": [
      " * sqlite:///factbook(1).db\n",
      "Done.\n"
     ]
    },
    {
     "data": {
      "text/html": [
       "<table>\n",
       "    <thead>\n",
       "        <tr>\n",
       "            <th>name</th>\n",
       "            <th>increase</th>\n",
       "        </tr>\n",
       "    </thead>\n",
       "    <tbody>\n",
       "        <tr>\n",
       "            <td>Malawi</td>\n",
       "            <td>3.32</td>\n",
       "        </tr>\n",
       "        <tr>\n",
       "            <td>Burundi</td>\n",
       "            <td>3.28</td>\n",
       "        </tr>\n",
       "        <tr>\n",
       "            <td>Burkina Faso</td>\n",
       "            <td>3.03</td>\n",
       "        </tr>\n",
       "        <tr>\n",
       "            <td>Gaza Strip</td>\n",
       "            <td>2.81</td>\n",
       "        </tr>\n",
       "        <tr>\n",
       "            <td>Benin</td>\n",
       "            <td>2.78</td>\n",
       "        </tr>\n",
       "        <tr>\n",
       "            <td>Niger</td>\n",
       "            <td>2.69</td>\n",
       "        </tr>\n",
       "        <tr>\n",
       "            <td>Togo</td>\n",
       "            <td>2.69</td>\n",
       "        </tr>\n",
       "        <tr>\n",
       "            <td>Ethiopia</td>\n",
       "            <td>2.67</td>\n",
       "        </tr>\n",
       "        <tr>\n",
       "            <td>Guinea</td>\n",
       "            <td>2.63</td>\n",
       "        </tr>\n",
       "        <tr>\n",
       "            <td>Madagascar</td>\n",
       "            <td>2.58</td>\n",
       "        </tr>\n",
       "        <tr>\n",
       "            <td>Equatorial Guinea</td>\n",
       "            <td>2.51</td>\n",
       "        </tr>\n",
       "        <tr>\n",
       "            <td>Uganda</td>\n",
       "            <td>2.5</td>\n",
       "        </tr>\n",
       "        <tr>\n",
       "            <td>Liberia</td>\n",
       "            <td>2.47</td>\n",
       "        </tr>\n",
       "        <tr>\n",
       "            <td>Cameroon</td>\n",
       "            <td>2.44</td>\n",
       "        </tr>\n",
       "        <tr>\n",
       "            <td>Angola</td>\n",
       "            <td>2.32</td>\n",
       "        </tr>\n",
       "        <tr>\n",
       "            <td>Eritrea</td>\n",
       "            <td>2.25</td>\n",
       "        </tr>\n",
       "        <tr>\n",
       "            <td>Tanzania</td>\n",
       "            <td>2.25</td>\n",
       "        </tr>\n",
       "        <tr>\n",
       "            <td>Nigeria</td>\n",
       "            <td>2.23</td>\n",
       "        </tr>\n",
       "        <tr>\n",
       "            <td>Zimbabwe</td>\n",
       "            <td>2.21</td>\n",
       "        </tr>\n",
       "        <tr>\n",
       "            <td>Zambia</td>\n",
       "            <td>2.1999999999999997</td>\n",
       "        </tr>\n",
       "        <tr>\n",
       "            <td>Congo, Democratic Republic of the</td>\n",
       "            <td>2.18</td>\n",
       "        </tr>\n",
       "        <tr>\n",
       "            <td>Central African Republic</td>\n",
       "            <td>2.13</td>\n",
       "        </tr>\n",
       "        <tr>\n",
       "            <td>West Bank</td>\n",
       "            <td>1.95</td>\n",
       "        </tr>\n",
       "        <tr>\n",
       "            <td>Cote d&#x27;Ivoire</td>\n",
       "            <td>1.91</td>\n",
       "        </tr>\n",
       "        <tr>\n",
       "            <td>Guinea-Bissau</td>\n",
       "            <td>1.91</td>\n",
       "        </tr>\n",
       "        <tr>\n",
       "            <td>Belize</td>\n",
       "            <td>1.87</td>\n",
       "        </tr>\n",
       "        <tr>\n",
       "            <td>Papua New Guinea</td>\n",
       "            <td>1.78</td>\n",
       "        </tr>\n",
       "        <tr>\n",
       "            <td>Kenya</td>\n",
       "            <td>1.71</td>\n",
       "        </tr>\n",
       "        <tr>\n",
       "            <td>Rwanda</td>\n",
       "            <td>1.71</td>\n",
       "        </tr>\n",
       "        <tr>\n",
       "            <td>Oman</td>\n",
       "            <td>1.64</td>\n",
       "        </tr>\n",
       "        <tr>\n",
       "            <td>Egypt</td>\n",
       "            <td>1.6</td>\n",
       "        </tr>\n",
       "        <tr>\n",
       "            <td>Yemen</td>\n",
       "            <td>1.4700000000000002</td>\n",
       "        </tr>\n",
       "        <tr>\n",
       "            <td>Mauritania</td>\n",
       "            <td>1.4</td>\n",
       "        </tr>\n",
       "        <tr>\n",
       "            <td>Venezuela</td>\n",
       "            <td>1.39</td>\n",
       "        </tr>\n",
       "        <tr>\n",
       "            <td>Ecuador</td>\n",
       "            <td>1.35</td>\n",
       "        </tr>\n",
       "        <tr>\n",
       "            <td>Iraq</td>\n",
       "            <td>1.31</td>\n",
       "        </tr>\n",
       "        <tr>\n",
       "            <td>Cambodia</td>\n",
       "            <td>1.26</td>\n",
       "        </tr>\n",
       "        <tr>\n",
       "            <td>India</td>\n",
       "            <td>1.18</td>\n",
       "        </tr>\n",
       "        <tr>\n",
       "            <td>Bangladesh</td>\n",
       "            <td>1.1400000000000001</td>\n",
       "        </tr>\n",
       "        <tr>\n",
       "            <td>Iran</td>\n",
       "            <td>1.13</td>\n",
       "        </tr>\n",
       "        <tr>\n",
       "            <td>Bhutan</td>\n",
       "            <td>1.11</td>\n",
       "        </tr>\n",
       "        <tr>\n",
       "            <td>Swaziland</td>\n",
       "            <td>1.11</td>\n",
       "        </tr>\n",
       "        <tr>\n",
       "            <td>Malaysia</td>\n",
       "            <td>1.1099999999999999</td>\n",
       "        </tr>\n",
       "        <tr>\n",
       "            <td>Paraguay</td>\n",
       "            <td>1.0899999999999999</td>\n",
       "        </tr>\n",
       "        <tr>\n",
       "            <td>Panama</td>\n",
       "            <td>1.04</td>\n",
       "        </tr>\n",
       "    </tbody>\n",
       "</table>"
      ],
      "text/plain": [
       "[('Malawi', 3.32),\n",
       " ('Burundi', 3.28),\n",
       " ('Burkina Faso', 3.03),\n",
       " ('Gaza Strip', 2.81),\n",
       " ('Benin', 2.78),\n",
       " ('Niger', 2.69),\n",
       " ('Togo', 2.69),\n",
       " ('Ethiopia', 2.67),\n",
       " ('Guinea', 2.63),\n",
       " ('Madagascar', 2.58),\n",
       " ('Equatorial Guinea', 2.51),\n",
       " ('Uganda', 2.5),\n",
       " ('Liberia', 2.47),\n",
       " ('Cameroon', 2.44),\n",
       " ('Angola', 2.32),\n",
       " ('Eritrea', 2.25),\n",
       " ('Tanzania', 2.25),\n",
       " ('Nigeria', 2.23),\n",
       " ('Zimbabwe', 2.21),\n",
       " ('Zambia', 2.1999999999999997),\n",
       " ('Congo, Democratic Republic of the', 2.18),\n",
       " ('Central African Republic', 2.13),\n",
       " ('West Bank', 1.95),\n",
       " (\"Cote d'Ivoire\", 1.91),\n",
       " ('Guinea-Bissau', 1.91),\n",
       " ('Belize', 1.87),\n",
       " ('Papua New Guinea', 1.78),\n",
       " ('Kenya', 1.71),\n",
       " ('Rwanda', 1.71),\n",
       " ('Oman', 1.64),\n",
       " ('Egypt', 1.6),\n",
       " ('Yemen', 1.4700000000000002),\n",
       " ('Mauritania', 1.4),\n",
       " ('Venezuela', 1.39),\n",
       " ('Ecuador', 1.35),\n",
       " ('Iraq', 1.31),\n",
       " ('Cambodia', 1.26),\n",
       " ('India', 1.18),\n",
       " ('Bangladesh', 1.1400000000000001),\n",
       " ('Iran', 1.13),\n",
       " ('Bhutan', 1.11),\n",
       " ('Swaziland', 1.11),\n",
       " ('Malaysia', 1.1099999999999999),\n",
       " ('Paraguay', 1.0899999999999999),\n",
       " ('Panama', 1.04)]"
      ]
     },
     "execution_count": 18,
     "metadata": {},
     "output_type": "execute_result"
    }
   ],
   "source": [
    "%%sql\n",
    "SELECT name, (population_growth - migration_rate) As increase\n",
    "    FROM facts\n",
    "    WHERE increase > (SELECT AVG(population_growth - migration_rate) As increase\n",
    "                        FROM facts\n",
    "                      WHERE name <> 'World') AND increase > 1.0\n",
    "    ORDER BY increase DESC"
   ]
  },
  {
   "cell_type": "markdown",
   "id": "a4fa3f1c",
   "metadata": {},
   "source": [
    "If we consider solely the increase it will be Malawi."
   ]
  },
  {
   "cell_type": "markdown",
   "id": "fa9282e8",
   "metadata": {},
   "source": [
    "#### Which countries have a higher death rate than birth rate?"
   ]
  },
  {
   "cell_type": "code",
   "execution_count": 19,
   "id": "2c804629",
   "metadata": {},
   "outputs": [
    {
     "name": "stdout",
     "output_type": "stream",
     "text": [
      " * sqlite:///factbook(1).db\n",
      "Done.\n"
     ]
    },
    {
     "data": {
      "text/html": [
       "<table>\n",
       "    <thead>\n",
       "        <tr>\n",
       "            <th>name</th>\n",
       "            <th>death_rate</th>\n",
       "            <th>birth_rate</th>\n",
       "        </tr>\n",
       "    </thead>\n",
       "    <tbody>\n",
       "        <tr>\n",
       "            <td>Ukraine</td>\n",
       "            <td>14.46</td>\n",
       "            <td>10.72</td>\n",
       "        </tr>\n",
       "        <tr>\n",
       "            <td>Bulgaria</td>\n",
       "            <td>14.44</td>\n",
       "            <td>8.92</td>\n",
       "        </tr>\n",
       "        <tr>\n",
       "            <td>Latvia</td>\n",
       "            <td>14.31</td>\n",
       "            <td>10.0</td>\n",
       "        </tr>\n",
       "        <tr>\n",
       "            <td>Lithuania</td>\n",
       "            <td>14.27</td>\n",
       "            <td>10.1</td>\n",
       "        </tr>\n",
       "        <tr>\n",
       "            <td>Russia</td>\n",
       "            <td>13.69</td>\n",
       "            <td>11.6</td>\n",
       "        </tr>\n",
       "        <tr>\n",
       "            <td>Serbia</td>\n",
       "            <td>13.66</td>\n",
       "            <td>9.08</td>\n",
       "        </tr>\n",
       "        <tr>\n",
       "            <td>Belarus</td>\n",
       "            <td>13.36</td>\n",
       "            <td>10.7</td>\n",
       "        </tr>\n",
       "        <tr>\n",
       "            <td>Hungary</td>\n",
       "            <td>12.73</td>\n",
       "            <td>9.16</td>\n",
       "        </tr>\n",
       "        <tr>\n",
       "            <td>Moldova</td>\n",
       "            <td>12.59</td>\n",
       "            <td>12.0</td>\n",
       "        </tr>\n",
       "        <tr>\n",
       "            <td>Estonia</td>\n",
       "            <td>12.4</td>\n",
       "            <td>10.51</td>\n",
       "        </tr>\n",
       "        <tr>\n",
       "            <td>Croatia</td>\n",
       "            <td>12.18</td>\n",
       "            <td>9.45</td>\n",
       "        </tr>\n",
       "        <tr>\n",
       "            <td>Romania</td>\n",
       "            <td>11.9</td>\n",
       "            <td>9.14</td>\n",
       "        </tr>\n",
       "        <tr>\n",
       "            <td>Germany</td>\n",
       "            <td>11.42</td>\n",
       "            <td>8.47</td>\n",
       "        </tr>\n",
       "        <tr>\n",
       "            <td>Slovenia</td>\n",
       "            <td>11.37</td>\n",
       "            <td>8.42</td>\n",
       "        </tr>\n",
       "        <tr>\n",
       "            <td>Greece</td>\n",
       "            <td>11.09</td>\n",
       "            <td>8.66</td>\n",
       "        </tr>\n",
       "        <tr>\n",
       "            <td>Portugal</td>\n",
       "            <td>11.02</td>\n",
       "            <td>9.27</td>\n",
       "        </tr>\n",
       "        <tr>\n",
       "            <td>Czech Republic</td>\n",
       "            <td>10.34</td>\n",
       "            <td>9.63</td>\n",
       "        </tr>\n",
       "        <tr>\n",
       "            <td>Italy</td>\n",
       "            <td>10.19</td>\n",
       "            <td>8.74</td>\n",
       "        </tr>\n",
       "        <tr>\n",
       "            <td>Poland</td>\n",
       "            <td>10.19</td>\n",
       "            <td>9.74</td>\n",
       "        </tr>\n",
       "        <tr>\n",
       "            <td>Bosnia and Herzegovina</td>\n",
       "            <td>9.75</td>\n",
       "            <td>8.87</td>\n",
       "        </tr>\n",
       "        <tr>\n",
       "            <td>Saint Pierre and Miquelon</td>\n",
       "            <td>9.72</td>\n",
       "            <td>7.42</td>\n",
       "        </tr>\n",
       "        <tr>\n",
       "            <td>Japan</td>\n",
       "            <td>9.51</td>\n",
       "            <td>7.93</td>\n",
       "        </tr>\n",
       "        <tr>\n",
       "            <td>Austria</td>\n",
       "            <td>9.42</td>\n",
       "            <td>9.41</td>\n",
       "        </tr>\n",
       "        <tr>\n",
       "            <td>Monaco</td>\n",
       "            <td>9.24</td>\n",
       "            <td>6.65</td>\n",
       "        </tr>\n",
       "    </tbody>\n",
       "</table>"
      ],
      "text/plain": [
       "[('Ukraine', 14.46, 10.72),\n",
       " ('Bulgaria', 14.44, 8.92),\n",
       " ('Latvia', 14.31, 10.0),\n",
       " ('Lithuania', 14.27, 10.1),\n",
       " ('Russia', 13.69, 11.6),\n",
       " ('Serbia', 13.66, 9.08),\n",
       " ('Belarus', 13.36, 10.7),\n",
       " ('Hungary', 12.73, 9.16),\n",
       " ('Moldova', 12.59, 12.0),\n",
       " ('Estonia', 12.4, 10.51),\n",
       " ('Croatia', 12.18, 9.45),\n",
       " ('Romania', 11.9, 9.14),\n",
       " ('Germany', 11.42, 8.47),\n",
       " ('Slovenia', 11.37, 8.42),\n",
       " ('Greece', 11.09, 8.66),\n",
       " ('Portugal', 11.02, 9.27),\n",
       " ('Czech Republic', 10.34, 9.63),\n",
       " ('Italy', 10.19, 8.74),\n",
       " ('Poland', 10.19, 9.74),\n",
       " ('Bosnia and Herzegovina', 9.75, 8.87),\n",
       " ('Saint Pierre and Miquelon', 9.72, 7.42),\n",
       " ('Japan', 9.51, 7.93),\n",
       " ('Austria', 9.42, 9.41),\n",
       " ('Monaco', 9.24, 6.65)]"
      ]
     },
     "execution_count": 19,
     "metadata": {},
     "output_type": "execute_result"
    }
   ],
   "source": [
    "%%sql\n",
    "SELECT name, death_rate, birth_rate\n",
    "    FROM facts\n",
    "    WHERE death_rate > birth_rate\n",
    "    ORDER BY death_rate DESC"
   ]
  },
  {
   "cell_type": "markdown",
   "id": "f4dea496",
   "metadata": {},
   "source": [
    "The East European countries Ukraine (14.46), Bulgaria (14.44), and Latvia (14.3) are at the top 3 on the list. Countries that were part of Soviet Union experienced a drastic decline on birth rate since 1989. This can be explained by a social and economic dynamic change that follows after the fall of URSS as Sobotka, Tomáš(2019). \n",
    "\n",
    "In Ukraine and Latvia, problems related to healthcare administration still be cause of death by infectious diseases in Latvia, Ukraine, and Bulgaria. See information as [here.](https://worldpopulationreview.com/country-rankings/death-rate-by-country)"
   ]
  },
  {
   "cell_type": "markdown",
   "id": "c8d48921",
   "metadata": {},
   "source": [
    "#### Which countries have the highest population/area ratio, and how does it compare to list we found in the previous screen?"
   ]
  },
  {
   "cell_type": "code",
   "execution_count": 20,
   "id": "c8283129",
   "metadata": {},
   "outputs": [
    {
     "name": "stdout",
     "output_type": "stream",
     "text": [
      " * sqlite:///factbook(1).db\n",
      "Done.\n"
     ]
    },
    {
     "data": {
      "text/html": [
       "<table>\n",
       "    <thead>\n",
       "        <tr>\n",
       "            <th>name</th>\n",
       "            <th>ratio_pop_area</th>\n",
       "        </tr>\n",
       "    </thead>\n",
       "    <tbody>\n",
       "        <tr>\n",
       "            <td>Macau</td>\n",
       "            <td>21168.964285714286</td>\n",
       "        </tr>\n",
       "        <tr>\n",
       "            <td>Monaco</td>\n",
       "            <td>15267.5</td>\n",
       "        </tr>\n",
       "        <tr>\n",
       "            <td>Singapore</td>\n",
       "            <td>8141.279770444763</td>\n",
       "        </tr>\n",
       "        <tr>\n",
       "            <td>Hong Kong</td>\n",
       "            <td>6445.041516245487</td>\n",
       "        </tr>\n",
       "        <tr>\n",
       "            <td>Gaza Strip</td>\n",
       "            <td>5191.819444444444</td>\n",
       "        </tr>\n",
       "        <tr>\n",
       "            <td>Gibraltar</td>\n",
       "            <td>4876.333333333333</td>\n",
       "        </tr>\n",
       "        <tr>\n",
       "            <td>Bahrain</td>\n",
       "            <td>1771.8592105263158</td>\n",
       "        </tr>\n",
       "        <tr>\n",
       "            <td>Maldives</td>\n",
       "            <td>1319.6409395973155</td>\n",
       "        </tr>\n",
       "        <tr>\n",
       "            <td>Malta</td>\n",
       "            <td>1310.01582278481</td>\n",
       "        </tr>\n",
       "        <tr>\n",
       "            <td>Bermuda</td>\n",
       "            <td>1299.9259259259259</td>\n",
       "        </tr>\n",
       "        <tr>\n",
       "            <td>Sint Maarten</td>\n",
       "            <td>1167.3235294117646</td>\n",
       "        </tr>\n",
       "        <tr>\n",
       "            <td>Bangladesh</td>\n",
       "            <td>1138.0691432035565</td>\n",
       "        </tr>\n",
       "        <tr>\n",
       "            <td>Guernsey</td>\n",
       "            <td>847.1794871794872</td>\n",
       "        </tr>\n",
       "        <tr>\n",
       "            <td>Jersey</td>\n",
       "            <td>838.7413793103449</td>\n",
       "        </tr>\n",
       "        <tr>\n",
       "            <td>Barbados</td>\n",
       "            <td>675.8232558139534</td>\n",
       "        </tr>\n",
       "        <tr>\n",
       "            <td>Mauritius</td>\n",
       "            <td>656.7779411764706</td>\n",
       "        </tr>\n",
       "        <tr>\n",
       "            <td>Taiwan</td>\n",
       "            <td>650.7817120622568</td>\n",
       "        </tr>\n",
       "        <tr>\n",
       "            <td>Aruba</td>\n",
       "            <td>623.1222222222223</td>\n",
       "        </tr>\n",
       "        <tr>\n",
       "            <td>Lebanon</td>\n",
       "            <td>594.6827884615385</td>\n",
       "        </tr>\n",
       "        <tr>\n",
       "            <td>Saint Martin</td>\n",
       "            <td>588.0370370370371</td>\n",
       "        </tr>\n",
       "        <tr>\n",
       "            <td>San Marino</td>\n",
       "            <td>541.311475409836</td>\n",
       "        </tr>\n",
       "        <tr>\n",
       "            <td>Korea, South</td>\n",
       "            <td>492.53104693140796</td>\n",
       "        </tr>\n",
       "        <tr>\n",
       "            <td>Rwanda</td>\n",
       "            <td>480.74010934771053</td>\n",
       "        </tr>\n",
       "        <tr>\n",
       "            <td>West Bank</td>\n",
       "            <td>475.3184300341297</td>\n",
       "        </tr>\n",
       "        <tr>\n",
       "            <td>Nauru</td>\n",
       "            <td>454.2857142857143</td>\n",
       "        </tr>\n",
       "    </tbody>\n",
       "</table>"
      ],
      "text/plain": [
       "[('Macau', 21168.964285714286),\n",
       " ('Monaco', 15267.5),\n",
       " ('Singapore', 8141.279770444763),\n",
       " ('Hong Kong', 6445.041516245487),\n",
       " ('Gaza Strip', 5191.819444444444),\n",
       " ('Gibraltar', 4876.333333333333),\n",
       " ('Bahrain', 1771.8592105263158),\n",
       " ('Maldives', 1319.6409395973155),\n",
       " ('Malta', 1310.01582278481),\n",
       " ('Bermuda', 1299.9259259259259),\n",
       " ('Sint Maarten', 1167.3235294117646),\n",
       " ('Bangladesh', 1138.0691432035565),\n",
       " ('Guernsey', 847.1794871794872),\n",
       " ('Jersey', 838.7413793103449),\n",
       " ('Barbados', 675.8232558139534),\n",
       " ('Mauritius', 656.7779411764706),\n",
       " ('Taiwan', 650.7817120622568),\n",
       " ('Aruba', 623.1222222222223),\n",
       " ('Lebanon', 594.6827884615385),\n",
       " ('Saint Martin', 588.0370370370371),\n",
       " ('San Marino', 541.311475409836),\n",
       " ('Korea, South', 492.53104693140796),\n",
       " ('Rwanda', 480.74010934771053),\n",
       " ('West Bank', 475.3184300341297),\n",
       " ('Nauru', 454.2857142857143)]"
      ]
     },
     "execution_count": 20,
     "metadata": {},
     "output_type": "execute_result"
    }
   ],
   "source": [
    "%%sql\n",
    "SELECT name, cast(population as Float)/cast(area as Float) AS ratio_pop_area\n",
    "    FROM facts\n",
    "    WHERE ratio_pop_area > (SELECT AVG(cast(population as Float)/cast(area as Float)) AS avg_ratio_pop_area\n",
    "                            FROM facts\n",
    "                            WHERE name <> 'World')\n",
    "    ORDER BY ratio_pop_area DESC\n"
   ]
  },
  {
   "cell_type": "code",
   "execution_count": 21,
   "id": "6a2d5746",
   "metadata": {},
   "outputs": [
    {
     "name": "stdout",
     "output_type": "stream",
     "text": [
      " * sqlite:///factbook(1).db\n",
      "Done.\n"
     ]
    },
    {
     "data": {
      "text/html": [
       "<table>\n",
       "    <thead>\n",
       "        <tr>\n",
       "            <th>name</th>\n",
       "            <th>death_rate</th>\n",
       "            <th>birth_rate</th>\n",
       "            <th>ratio_pop_area</th>\n",
       "        </tr>\n",
       "    </thead>\n",
       "    <tbody>\n",
       "        <tr>\n",
       "            <td>Monaco</td>\n",
       "            <td>9.24</td>\n",
       "            <td>6.65</td>\n",
       "            <td>15267.5</td>\n",
       "        </tr>\n",
       "    </tbody>\n",
       "</table>"
      ],
      "text/plain": [
       "[('Monaco', 9.24, 6.65, 15267.5)]"
      ]
     },
     "execution_count": 21,
     "metadata": {},
     "output_type": "execute_result"
    }
   ],
   "source": [
    "%%sql\n",
    "SELECT name, death_rate, birth_rate,cast(population as Float)/cast(area as Float) AS ratio_pop_area\n",
    "    FROM facts\n",
    "    WHERE death_rate > birth_rate AND ratio_pop_area > (SELECT AVG(cast(population as Float)/cast(area as Float)) AS avg_ratio_pop_area\n",
    "                            FROM facts\n",
    "                            WHERE name <> 'World')  "
   ]
  },
  {
   "cell_type": "markdown",
   "id": "788a0766",
   "metadata": {},
   "source": [
    "When merging queries about higher death rate than birth rate and which countries have the highest population/area ratio, was possible tp notice that only Monaco is in both queries."
   ]
  },
  {
   "cell_type": "markdown",
   "id": "04718ce2",
   "metadata": {},
   "source": [
    "### Additional Query just because I'm curious about Brazil, Poland and Italy"
   ]
  },
  {
   "cell_type": "code",
   "execution_count": 22,
   "id": "59044cad",
   "metadata": {},
   "outputs": [
    {
     "name": "stdout",
     "output_type": "stream",
     "text": [
      " * sqlite:///factbook(1).db\n",
      "Done.\n"
     ]
    },
    {
     "data": {
      "text/html": [
       "<table>\n",
       "    <thead>\n",
       "        <tr>\n",
       "            <th>id</th>\n",
       "            <th>code</th>\n",
       "            <th>name</th>\n",
       "            <th>area</th>\n",
       "            <th>area_land</th>\n",
       "            <th>area_water</th>\n",
       "            <th>population</th>\n",
       "            <th>population_growth</th>\n",
       "            <th>birth_rate</th>\n",
       "            <th>death_rate</th>\n",
       "            <th>migration_rate</th>\n",
       "        </tr>\n",
       "    </thead>\n",
       "    <tbody>\n",
       "        <tr>\n",
       "            <td>24</td>\n",
       "            <td>br</td>\n",
       "            <td>Brazil</td>\n",
       "            <td>8515770</td>\n",
       "            <td>8358140</td>\n",
       "            <td>157630</td>\n",
       "            <td>204259812</td>\n",
       "            <td>0.77</td>\n",
       "            <td>14.46</td>\n",
       "            <td>6.58</td>\n",
       "            <td>0.14</td>\n",
       "        </tr>\n",
       "        <tr>\n",
       "            <td>83</td>\n",
       "            <td>it</td>\n",
       "            <td>Italy</td>\n",
       "            <td>301340</td>\n",
       "            <td>294140</td>\n",
       "            <td>7200</td>\n",
       "            <td>61855120</td>\n",
       "            <td>0.27</td>\n",
       "            <td>8.74</td>\n",
       "            <td>10.19</td>\n",
       "            <td>4.1</td>\n",
       "        </tr>\n",
       "        <tr>\n",
       "            <td>139</td>\n",
       "            <td>pl</td>\n",
       "            <td>Poland</td>\n",
       "            <td>312685</td>\n",
       "            <td>304255</td>\n",
       "            <td>8430</td>\n",
       "            <td>38562189</td>\n",
       "            <td>0.09</td>\n",
       "            <td>9.74</td>\n",
       "            <td>10.19</td>\n",
       "            <td>0.46</td>\n",
       "        </tr>\n",
       "    </tbody>\n",
       "</table>"
      ],
      "text/plain": [
       "[(24, 'br', 'Brazil', 8515770, 8358140, 157630, 204259812, 0.77, 14.46, 6.58, 0.14),\n",
       " (83, 'it', 'Italy', 301340, 294140, 7200, 61855120, 0.27, 8.74, 10.19, 4.1),\n",
       " (139, 'pl', 'Poland', 312685, 304255, 8430, 38562189, 0.09, 9.74, 10.19, 0.46)]"
      ]
     },
     "execution_count": 22,
     "metadata": {},
     "output_type": "execute_result"
    }
   ],
   "source": [
    "%%sql\n",
    "SELECT *\n",
    "    FROM facts\n",
    "    WHERE name IN ('Brazil', 'Poland', 'Italy')"
   ]
  },
  {
   "cell_type": "markdown",
   "id": "41625e88",
   "metadata": {},
   "source": [
    "From the table facts is possible to notice that the Brazil has shown a biggest population Growth but smaller migration_rate."
   ]
  },
  {
   "cell_type": "code",
   "execution_count": 23,
   "id": "36e2f072",
   "metadata": {},
   "outputs": [
    {
     "name": "stdout",
     "output_type": "stream",
     "text": [
      " * sqlite:///factbook(1).db\n",
      "Done.\n"
     ]
    },
    {
     "data": {
      "text/html": [
       "<table>\n",
       "    <thead>\n",
       "        <tr>\n",
       "            <th>name</th>\n",
       "            <th>area</th>\n",
       "            <th>ratio_pop_area</th>\n",
       "            <th>ratio_water_land</th>\n",
       "            <th>ratio_birth_death</th>\n",
       "        </tr>\n",
       "    </thead>\n",
       "    <tbody>\n",
       "        <tr>\n",
       "            <td>Brazil</td>\n",
       "            <td>8515770</td>\n",
       "            <td>23.98606491250938</td>\n",
       "            <td>0.018859459161966657</td>\n",
       "            <td>2.197568389057751</td>\n",
       "        </tr>\n",
       "        <tr>\n",
       "            <td>Italy</td>\n",
       "            <td>301340</td>\n",
       "            <td>205.26687462666754</td>\n",
       "            <td>0.024478139661385734</td>\n",
       "            <td>0.8577036310107949</td>\n",
       "        </tr>\n",
       "        <tr>\n",
       "            <td>Poland</td>\n",
       "            <td>312685</td>\n",
       "            <td>123.3259958104802</td>\n",
       "            <td>0.027707022070302872</td>\n",
       "            <td>0.955839057899902</td>\n",
       "        </tr>\n",
       "    </tbody>\n",
       "</table>"
      ],
      "text/plain": [
       "[('Brazil', 8515770, 23.98606491250938, 0.018859459161966657, 2.197568389057751),\n",
       " ('Italy', 301340, 205.26687462666754, 0.024478139661385734, 0.8577036310107949),\n",
       " ('Poland', 312685, 123.3259958104802, 0.027707022070302872, 0.955839057899902)]"
      ]
     },
     "execution_count": 23,
     "metadata": {},
     "output_type": "execute_result"
    }
   ],
   "source": [
    "%%sql\n",
    "SELECT name, area, cast(population as Float)/cast(area as Float) AS ratio_pop_area, cast(area_water as Float)/cast(area_land as Float) AS ratio_water_land,\n",
    "        cast(birth_rate as Float)/cast(death_rate as Float) AS ratio_birth_death\n",
    "    FROM facts\n",
    "   WHERE name IN ('Brazil', 'Poland', 'Italy')"
   ]
  },
  {
   "cell_type": "markdown",
   "id": "7707dbf0",
   "metadata": {},
   "source": [
    "For the variable ratio_pop_area Italy has a bigger number of inhabitants per km2. Some possible explanations are:\n",
    " - Italy is a thin peninsula, where the inland area is much smaller. \n",
    " - Throughout history, Italian coastal areas were more populated due to trade and fishing. The South Italy culture was strongly influenced by the sea. It contributed to the inland occupation structure, once it was made to ease the circulation of people and products from the coast to land.  This influenced the demography of the country. \n",
    " - A strong cultural sense of community that makes even in rural areas people agglomerate. \n",
    " - A high migration.    \n",
    " \n",
    "About the ratio_birth_death, Brazil has the bigger rate. This could be explained by the effective public child health care provided by SUS. The SUS handles preventive and curative care with access to the whole country.\n",
    "\n",
    "An interesting fact is that the values from death_rate for Poland dropped after a serie of restructuration at the public health care ZUS that is taking place since 2000s. The most recent change was in [2017](https://www.sciencedirect.com/science/article/pii/S0168851018306237)."
   ]
  },
  {
   "cell_type": "code",
   "execution_count": 24,
   "id": "4fb33b07",
   "metadata": {},
   "outputs": [
    {
     "name": "stdout",
     "output_type": "stream",
     "text": [
      " * sqlite:///factbook(1).db\n",
      "Done.\n"
     ]
    },
    {
     "data": {
      "text/html": [
       "<table>\n",
       "    <thead>\n",
       "        <tr>\n",
       "            <th>AVG(area)</th>\n",
       "            <th>avg_ratio_pop_area</th>\n",
       "            <th>avg_ratio_water_land</th>\n",
       "            <th>ratio_birth_death</th>\n",
       "        </tr>\n",
       "    </thead>\n",
       "    <tbody>\n",
       "        <tr>\n",
       "            <td>555093.546184739</td>\n",
       "            <td>419.66252469247945</td>\n",
       "            <td>3.803454624004138</td>\n",
       "            <td>2.8398621495152736</td>\n",
       "        </tr>\n",
       "    </tbody>\n",
       "</table>"
      ],
      "text/plain": [
       "[(555093.546184739, 419.66252469247945, 3.803454624004138, 2.8398621495152736)]"
      ]
     },
     "execution_count": 24,
     "metadata": {},
     "output_type": "execute_result"
    }
   ],
   "source": [
    "%%sql\n",
    "SELECT AVG(area), AVG(cast(population as Float)/cast(area as Float)) AS avg_ratio_pop_area, AVG(cast(area_water as Float)/cast(area_land as Float)) AS avg_ratio_water_land,\n",
    "AVG(cast(birth_rate as Float)/cast(death_rate as Float)) AS ratio_birth_death\n",
    "    FROM facts\n",
    "    WHERE name <> 'World'"
   ]
  },
  {
   "cell_type": "markdown",
   "id": "b65d87b4",
   "metadata": {},
   "source": [
    "## Conclusion\n",
    "\n",
    "With CIA World factbook data we proceed the identification of the potential grounds for operation. Our analysis is based on demographic indicators like population, mortality, and fertility.\n",
    "\n",
    "\t• Accounting for 46% of the world's total population, China, India, the United States, Indonesia, and Brazil are the most populated countries. The least populated world locations are majorly Islands and dependencies.\n",
    "\n",
    "So is easier to go undercover at China, India, the United States, Indonesia, and Brazil if you are an adult. However Niger has bigger potential for our Operation Crib-Crawl. Of course it would demmand extra health budget due a high death_rate.\n",
    "\n",
    "\t• Due to their small land area, Poland and Italy are more densely populated than Brazil. \n",
    "\t• Fertility is highest in Africa and lowest in Europe and Asia. Some African countries (Lesotho, Guinea-Bissau) and Eastern European countries (Bulgaria, Ukraine and Latvia) record the highest death rates. The Gulf cooperation countries of the Middle-East record the lowest death rates. If we where to analyse death/brith relation we could observe that the biggest values where held by  Eastern European countries who at the analised period had the low birth number and high child mortality.  \n",
    "    \n",
    "    • Population is rapidly declining in East and South-East Europe. This occurrence is due to reducing birth rates, increasing deaths, and emigration to other countries. Japan is also experiencing a population decline despite the positive forecasts for the country.\n",
    "    \n",
    "Operation Crib-Crawl isn't feasable on those, a spy baby would be easily spotted. Better send the The Seasoned Spy.\n",
    "\n",
    "### Limitation\n",
    "\n",
    "\t•This data colllection is outdated. As a result, they may not reflect the current state of the world's countries.\n",
    "    •Some countries present some data blackout, that can occur by unnintentional failure at data register, political or other intentional fake data registers, lack of official data transparence and problems of social orders that may incur in a error of estimation of demographical parameters. "
   ]
  },
  {
   "cell_type": "markdown",
   "id": "ebbc88f9",
   "metadata": {},
   "source": [
    "##### Additional Bibliography:\n",
    "\n",
    "Sobotka, Tomáš. “Fertility in Central and Eastern Europe after 1989: Collapse and Gradual Recovery.” Historical Social Research / Historische Sozialforschung, vol. 36, no. 2 (136), 2011, pp. 246–96. JSTOR, http://www.jstor.org/stable/41151282. Accessed 8 June 2023."
   ]
  }
 ],
 "metadata": {
  "kernelspec": {
   "display_name": "Python 3 (ipykernel)",
   "language": "python",
   "name": "python3"
  },
  "language_info": {
   "codemirror_mode": {
    "name": "ipython",
    "version": 3
   },
   "file_extension": ".py",
   "mimetype": "text/x-python",
   "name": "python",
   "nbconvert_exporter": "python",
   "pygments_lexer": "ipython3",
   "version": "3.10.9"
  }
 },
 "nbformat": 4,
 "nbformat_minor": 5
}
